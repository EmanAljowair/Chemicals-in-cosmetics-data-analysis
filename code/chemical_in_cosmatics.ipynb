{
 "cells": [
  {
   "cell_type": "code",
   "execution_count": 1,
   "id": "c9bb34dd-f7ae-448b-8a8e-bf5ae809f4a5",
   "metadata": {},
   "outputs": [],
   "source": [
    "import pandas as pd"
   ]
  },
  {
   "cell_type": "code",
   "execution_count": 3,
   "id": "ffb24b57-c87d-48f4-9630-2f4a5e143a5c",
   "metadata": {},
   "outputs": [
    {
     "name": "stdout",
     "output_type": "stream",
     "text": [
      "<class 'pandas.core.frame.DataFrame'>\n",
      "RangeIndex: 114635 entries, 0 to 114634\n",
      "Data columns (total 22 columns):\n",
      " #   Column                  Non-Null Count   Dtype  \n",
      "---  ------                  --------------   -----  \n",
      " 0   CDPHId                  114635 non-null  int64  \n",
      " 1   ProductName             114635 non-null  object \n",
      " 2   CSFId                   80662 non-null   float64\n",
      " 3   CSF                     80237 non-null   object \n",
      " 4   CompanyId               114635 non-null  int64  \n",
      " 5   CompanyName             114635 non-null  object \n",
      " 6   BrandName               114408 non-null  object \n",
      " 7   PrimaryCategoryId       114635 non-null  int64  \n",
      " 8   PrimaryCategory         114635 non-null  object \n",
      " 9   SubCategoryId           114635 non-null  int64  \n",
      " 10  SubCategory             114635 non-null  object \n",
      " 11  CasId                   114635 non-null  int64  \n",
      " 12  CasNumber               108159 non-null  object \n",
      " 13  ChemicalId              114635 non-null  int64  \n",
      " 14  ChemicalName            114635 non-null  object \n",
      " 15  InitialDateReported     114635 non-null  object \n",
      " 16  MostRecentDateReported  114635 non-null  object \n",
      " 17  DiscontinuedDate        12920 non-null   object \n",
      " 18  ChemicalCreatedAt       114635 non-null  object \n",
      " 19  ChemicalUpdatedAt       114635 non-null  object \n",
      " 20  ChemicalDateRemoved     2985 non-null    object \n",
      " 21  ChemicalCount           114635 non-null  int64  \n",
      "dtypes: float64(1), int64(7), object(14)\n",
      "memory usage: 19.2+ MB\n"
     ]
    }
   ],
   "source": [
    "my_data = pd.read_csv('cscpopendata.csv')\n",
    "my_data.info()"
   ]
  },
  {
   "cell_type": "markdown",
   "id": "7180aebb-d4b8-46ee-8916-17db607f8526",
   "metadata": {},
   "source": [
    "# Exploratory Data Analysis (EDA)"
   ]
  },
  {
   "cell_type": "markdown",
   "id": "ff0ad91a-eb07-4082-bfe3-aeb83109c7ac",
   "metadata": {},
   "source": [
    "## Data Cleaning"
   ]
  },
  {
   "cell_type": "markdown",
   "id": "41444678-03b2-469f-aa67-e60d103357fe",
   "metadata": {},
   "source": [
    "### handling duplicates"
   ]
  },
  {
   "cell_type": "code",
   "execution_count": 5,
   "id": "4332bf6f-2c2c-4bca-a827-dfb8e8f81eb0",
   "metadata": {},
   "outputs": [
    {
     "data": {
      "text/plain": [
       "254"
      ]
     },
     "execution_count": 5,
     "metadata": {},
     "output_type": "execute_result"
    }
   ],
   "source": [
    "my_data.duplicated().sum()"
   ]
  },
  {
   "cell_type": "code",
   "execution_count": 7,
   "id": "744593b5-17cf-45ca-a5d8-9daa5628d9d0",
   "metadata": {},
   "outputs": [],
   "source": [
    "#duplecates will be removed for this analysis\n",
    "clean_data = my_data.drop_duplicates().copy()"
   ]
  },
  {
   "cell_type": "markdown",
   "id": "2a052314-2faa-41ee-a98f-90fdf23a22dd",
   "metadata": {},
   "source": [
    "### handling nulls"
   ]
  },
  {
   "cell_type": "code",
   "execution_count": 130,
   "id": "4663b683-984a-4fac-8aae-838d0f0b8656",
   "metadata": {},
   "outputs": [],
   "source": [
    "# from the info list of my_data we conclude that most columns used in this data analysis has no nulls\n",
    "#for DiscontinuedDate column there are nulls but it was assumed that the products are still avalible"
   ]
  },
  {
   "cell_type": "code",
   "execution_count": 9,
   "id": "406fef44-7f24-4f45-b254-d944e0425712",
   "metadata": {},
   "outputs": [
    {
     "data": {
      "text/plain": [
       "CompanyName\n",
       "Merle Norman Cosmetics                                     110\n",
       "Greenbrier International, Inc.                              71\n",
       "Sysco Guest Supply LLC.                                     37\n",
       "Guangzhou Baiyun Darong Fine Chemical Industry Co.,Ltd.      4\n",
       "Fisk Industries Inc                                          2\n",
       "Atlas Development Limited                                    1\n",
       "Ningbo Rejoice I/E Co., Ltd.                                 1\n",
       "Jiangxi Iris Chemical Co.,Ltd                                1\n",
       "Name: count, dtype: int64"
      ]
     },
     "execution_count": 9,
     "metadata": {},
     "output_type": "execute_result"
    }
   ],
   "source": [
    "#investigatin BrandName column  nulls were found \n",
    "nulls = clean_data['BrandName'].isna()\n",
    "clean_data[nulls]['CompanyName'].value_counts()"
   ]
  },
  {
   "cell_type": "code",
   "execution_count": 11,
   "id": "e039acc9-6756-46b8-bcb0-fa2900cc02d5",
   "metadata": {},
   "outputs": [
    {
     "data": {
      "text/plain": [
       "CDPHId                     0.000000\n",
       "ProductName                0.000000\n",
       "CSFId                     29.490038\n",
       "CSF                       29.861603\n",
       "CompanyId                  0.000000\n",
       "CompanyName                0.000000\n",
       "BrandName                  0.198460\n",
       "PrimaryCategoryId          0.000000\n",
       "PrimaryCategory            0.000000\n",
       "SubCategoryId              0.000000\n",
       "SubCategory                0.000000\n",
       "CasId                      0.000000\n",
       "CasNumber                  5.660905\n",
       "ChemicalId                 0.000000\n",
       "ChemicalName               0.000000\n",
       "InitialDateReported        0.000000\n",
       "MostRecentDateReported     0.000000\n",
       "DiscontinuedDate          88.745508\n",
       "ChemicalCreatedAt          0.000000\n",
       "ChemicalUpdatedAt          0.000000\n",
       "ChemicalDateRemoved       97.390301\n",
       "ChemicalCount              0.000000\n",
       "dtype: float64"
      ]
     },
     "execution_count": 11,
     "metadata": {},
     "output_type": "execute_result"
    }
   ],
   "source": [
    "#checking the % of nulls compared to whole data its very small so no further cleaning will be preformed\n",
    "row,col = clean_data.shape\n",
    "(clean_data.isna().sum()/row)*100"
   ]
  },
  {
   "cell_type": "markdown",
   "id": "e10a8718-a7b8-46f4-827e-55bfb307c58e",
   "metadata": {},
   "source": [
    "### Replacing values"
   ]
  },
  {
   "cell_type": "code",
   "execution_count": 13,
   "id": "18b1642c-33d7-4e63-bd0f-dae382cfe99e",
   "metadata": {},
   "outputs": [
    {
     "data": {
      "text/plain": [
       "array(['Merle Norman Cosmetics', nan, 'Merle Norman',\n",
       "       'Merle Norman Cosmetics ', 'Merle Norman ', 'MERLE NORMAN ',\n",
       "       'MERLE NORMAN', 'MERLE NORMAN COSMETICS, INC. '], dtype=object)"
      ]
     },
     "execution_count": 13,
     "metadata": {},
     "output_type": "execute_result"
    }
   ],
   "source": [
    "#checking brand names for Merle Norman Cosmetics company we find that it has only one brand name but with diffrent formats\n",
    "clean_data[clean_data['CompanyName'] == 'Merle Norman Cosmetics']['BrandName'].unique()"
   ]
  },
  {
   "cell_type": "code",
   "execution_count": 15,
   "id": "d93b63e7-9a2e-48ec-b326-d71fc719f446",
   "metadata": {},
   "outputs": [],
   "source": [
    "#for better analysis we are changeng all Merle Norman Cosmetics company brands to 'Merle Norman Cosmetics'\n",
    "clean_data['BrandName'] = clean_data['BrandName'].replace(['Merle Norman', 'Merle Norman ','MERLE NORMAN ','MERLE NORMAN','MERLE NORMAN COSMETICS, INC. '],'Merle Norman Cosmetics')"
   ]
  },
  {
   "cell_type": "code",
   "execution_count": 17,
   "id": "6f44a977-6359-4523-a29a-c388517e4475",
   "metadata": {},
   "outputs": [
    {
     "data": {
      "text/plain": [
       "array(['Merle Norman Cosmetics', nan, 'Merle Norman Cosmetics '],\n",
       "      dtype=object)"
      ]
     },
     "execution_count": 17,
     "metadata": {},
     "output_type": "execute_result"
    }
   ],
   "source": [
    "clean_data[clean_data['CompanyName'] == 'Merle Norman Cosmetics']['BrandName'].unique()"
   ]
  },
  {
   "cell_type": "markdown",
   "id": "17012041-cf2b-41dc-b979-502eeabaf247",
   "metadata": {},
   "source": [
    "### Check how many types of chemicals we have"
   ]
  },
  {
   "cell_type": "code",
   "execution_count": 19,
   "id": "b2c0208a-f71e-4f07-ab85-e8a930fa2423",
   "metadata": {},
   "outputs": [
    {
     "data": {
      "text/plain": [
       "123"
      ]
     },
     "execution_count": 19,
     "metadata": {},
     "output_type": "execute_result"
    }
   ],
   "source": [
    "clean_data['ChemicalName'].nunique()"
   ]
  },
  {
   "cell_type": "markdown",
   "id": "49e1442c-51ab-4b87-9919-511ab0ac6754",
   "metadata": {},
   "source": [
    "### Check how many types of PrimaryCategory we have"
   ]
  },
  {
   "cell_type": "code",
   "execution_count": 21,
   "id": "15ae3940-469c-4880-8986-a89015836528",
   "metadata": {},
   "outputs": [
    {
     "data": {
      "text/plain": [
       "PrimaryCategory\n",
       "Makeup Products (non-permanent)      75822\n",
       "Nail Products                        15347\n",
       "Skin Care Products                    7680\n",
       "Sun-Related Products                  4939\n",
       "Bath Products                         3463\n",
       "Hair Coloring Products                1882\n",
       "Hair Care Products (non-coloring)     1566\n",
       "Tattoos and Permanent Makeup          1477\n",
       "Personal Care Products                 765\n",
       "Fragrances                             644\n",
       "Oral Hygiene Products                  525\n",
       "Shaving Products                       222\n",
       "Baby Products                           49\n",
       "Name: count, dtype: int64"
      ]
     },
     "execution_count": 21,
     "metadata": {},
     "output_type": "execute_result"
    }
   ],
   "source": [
    "chemical_tyeps_count = clean_data['PrimaryCategory'].value_counts()\n",
    "chemical_tyeps_count"
   ]
  },
  {
   "cell_type": "markdown",
   "id": "91e09f9e-52d8-4835-9e23-124ec43e82a9",
   "metadata": {},
   "source": [
    "## Questions to answer for data analysis"
   ]
  },
  {
   "cell_type": "markdown",
   "id": "b32e96c9-ee83-4926-8257-b6fd91ae88d1",
   "metadata": {},
   "source": [
    "### Q1)What chemicals are commenly found in discontinued products?"
   ]
  },
  {
   "cell_type": "code",
   "execution_count": 23,
   "id": "ce861438-1cca-4759-8d3a-4ba372cc98ec",
   "metadata": {},
   "outputs": [
    {
     "data": {
      "text/html": [
       "<div>\n",
       "<style scoped>\n",
       "    .dataframe tbody tr th:only-of-type {\n",
       "        vertical-align: middle;\n",
       "    }\n",
       "\n",
       "    .dataframe tbody tr th {\n",
       "        vertical-align: top;\n",
       "    }\n",
       "\n",
       "    .dataframe thead th {\n",
       "        text-align: right;\n",
       "    }\n",
       "</style>\n",
       "<table border=\"1\" class=\"dataframe\">\n",
       "  <thead>\n",
       "    <tr style=\"text-align: right;\">\n",
       "      <th></th>\n",
       "      <th>ChemicalName</th>\n",
       "      <th>count</th>\n",
       "    </tr>\n",
       "  </thead>\n",
       "  <tbody>\n",
       "    <tr>\n",
       "      <th>58</th>\n",
       "      <td>Retinyl palmitate</td>\n",
       "      <td>44</td>\n",
       "    </tr>\n",
       "    <tr>\n",
       "      <th>59</th>\n",
       "      <td>Cosmetic talc</td>\n",
       "      <td>71</td>\n",
       "    </tr>\n",
       "    <tr>\n",
       "      <th>60</th>\n",
       "      <td>Carbon black</td>\n",
       "      <td>84</td>\n",
       "    </tr>\n",
       "    <tr>\n",
       "      <th>61</th>\n",
       "      <td>Silica, crystalline (airborne particles of res...</td>\n",
       "      <td>94</td>\n",
       "    </tr>\n",
       "    <tr>\n",
       "      <th>62</th>\n",
       "      <td>Mineral oils, untreated and mildly treated</td>\n",
       "      <td>160</td>\n",
       "    </tr>\n",
       "    <tr>\n",
       "      <th>63</th>\n",
       "      <td>Butylated hydroxyanisole</td>\n",
       "      <td>188</td>\n",
       "    </tr>\n",
       "    <tr>\n",
       "      <th>64</th>\n",
       "      <td>Cocamide diethanolamine</td>\n",
       "      <td>360</td>\n",
       "    </tr>\n",
       "    <tr>\n",
       "      <th>65</th>\n",
       "      <td>Mica</td>\n",
       "      <td>397</td>\n",
       "    </tr>\n",
       "    <tr>\n",
       "      <th>66</th>\n",
       "      <td>Retinol/retinyl esters, when in daily dosages ...</td>\n",
       "      <td>721</td>\n",
       "    </tr>\n",
       "    <tr>\n",
       "      <th>67</th>\n",
       "      <td>Titanium dioxide</td>\n",
       "      <td>10291</td>\n",
       "    </tr>\n",
       "  </tbody>\n",
       "</table>\n",
       "</div>"
      ],
      "text/plain": [
       "                                         ChemicalName  count\n",
       "58                                  Retinyl palmitate     44\n",
       "59                                      Cosmetic talc     71\n",
       "60                                       Carbon black     84\n",
       "61  Silica, crystalline (airborne particles of res...     94\n",
       "62         Mineral oils, untreated and mildly treated    160\n",
       "63                           Butylated hydroxyanisole    188\n",
       "64                            Cocamide diethanolamine    360\n",
       "65                                               Mica    397\n",
       "66  Retinol/retinyl esters, when in daily dosages ...    721\n",
       "67                                   Titanium dioxide  10291"
      ]
     },
     "execution_count": 23,
     "metadata": {},
     "output_type": "execute_result"
    }
   ],
   "source": [
    "discontinued_df = clean_data[clean_data['DiscontinuedDate'].notnull()]\n",
    "discontinued_df = discontinued_df['ChemicalName'].value_counts().sort_values(ascending=True)\n",
    "discontinued_df = pd.DataFrame(discontinued_df)\n",
    "discontinued_df = discontinued_df.reset_index()\n",
    "discontinued_df.tail(10)"
   ]
  },
  {
   "cell_type": "code",
   "execution_count": 25,
   "id": "be1ddc78-71ee-4f7a-a2cd-ccc71c62061c",
   "metadata": {},
   "outputs": [
    {
     "data": {
      "text/html": [
       "<div>\n",
       "<style scoped>\n",
       "    .dataframe tbody tr th:only-of-type {\n",
       "        vertical-align: middle;\n",
       "    }\n",
       "\n",
       "    .dataframe tbody tr th {\n",
       "        vertical-align: top;\n",
       "    }\n",
       "\n",
       "    .dataframe thead th {\n",
       "        text-align: right;\n",
       "    }\n",
       "</style>\n",
       "<table border=\"1\" class=\"dataframe\">\n",
       "  <thead>\n",
       "    <tr style=\"text-align: right;\">\n",
       "      <th></th>\n",
       "      <th>ChemicalName</th>\n",
       "      <th>count</th>\n",
       "      <th>short_name</th>\n",
       "    </tr>\n",
       "  </thead>\n",
       "  <tbody>\n",
       "    <tr>\n",
       "      <th>0</th>\n",
       "      <td>Ethanol in alcoholic beverages</td>\n",
       "      <td>1</td>\n",
       "      <td>Ethanol in alcoholic beverages</td>\n",
       "    </tr>\n",
       "    <tr>\n",
       "      <th>1</th>\n",
       "      <td>Lead acetate</td>\n",
       "      <td>1</td>\n",
       "      <td>Lead acetate</td>\n",
       "    </tr>\n",
       "    <tr>\n",
       "      <th>2</th>\n",
       "      <td>Chromium (hexavalent compounds)</td>\n",
       "      <td>1</td>\n",
       "      <td>Chromium (hexavalent compounds)</td>\n",
       "    </tr>\n",
       "    <tr>\n",
       "      <th>3</th>\n",
       "      <td>Titanium dioxide (airborne, unbound particles ...</td>\n",
       "      <td>1</td>\n",
       "      <td>Titanium dioxide (airborne</td>\n",
       "    </tr>\n",
       "    <tr>\n",
       "      <th>4</th>\n",
       "      <td>Ginkgo biloba extract</td>\n",
       "      <td>1</td>\n",
       "      <td>Ginkgo biloba extract</td>\n",
       "    </tr>\n",
       "    <tr>\n",
       "      <th>...</th>\n",
       "      <td>...</td>\n",
       "      <td>...</td>\n",
       "      <td>...</td>\n",
       "    </tr>\n",
       "    <tr>\n",
       "      <th>63</th>\n",
       "      <td>Butylated hydroxyanisole</td>\n",
       "      <td>188</td>\n",
       "      <td>Butylated hydroxyanisole</td>\n",
       "    </tr>\n",
       "    <tr>\n",
       "      <th>64</th>\n",
       "      <td>Cocamide diethanolamine</td>\n",
       "      <td>360</td>\n",
       "      <td>Cocamide diethanolamine</td>\n",
       "    </tr>\n",
       "    <tr>\n",
       "      <th>65</th>\n",
       "      <td>Mica</td>\n",
       "      <td>397</td>\n",
       "      <td>Mica</td>\n",
       "    </tr>\n",
       "    <tr>\n",
       "      <th>66</th>\n",
       "      <td>Retinol/retinyl esters, when in daily dosages ...</td>\n",
       "      <td>721</td>\n",
       "      <td>Retinol/retinyl esters</td>\n",
       "    </tr>\n",
       "    <tr>\n",
       "      <th>67</th>\n",
       "      <td>Titanium dioxide</td>\n",
       "      <td>10291</td>\n",
       "      <td>Titanium dioxide</td>\n",
       "    </tr>\n",
       "  </tbody>\n",
       "</table>\n",
       "<p>68 rows × 3 columns</p>\n",
       "</div>"
      ],
      "text/plain": [
       "                                         ChemicalName  count  \\\n",
       "0                      Ethanol in alcoholic beverages      1   \n",
       "1                                        Lead acetate      1   \n",
       "2                     Chromium (hexavalent compounds)      1   \n",
       "3   Titanium dioxide (airborne, unbound particles ...      1   \n",
       "4                               Ginkgo biloba extract      1   \n",
       "..                                                ...    ...   \n",
       "63                           Butylated hydroxyanisole    188   \n",
       "64                            Cocamide diethanolamine    360   \n",
       "65                                               Mica    397   \n",
       "66  Retinol/retinyl esters, when in daily dosages ...    721   \n",
       "67                                   Titanium dioxide  10291   \n",
       "\n",
       "                         short_name  \n",
       "0    Ethanol in alcoholic beverages  \n",
       "1                      Lead acetate  \n",
       "2   Chromium (hexavalent compounds)  \n",
       "3        Titanium dioxide (airborne  \n",
       "4             Ginkgo biloba extract  \n",
       "..                              ...  \n",
       "63         Butylated hydroxyanisole  \n",
       "64          Cocamide diethanolamine  \n",
       "65                             Mica  \n",
       "66           Retinol/retinyl esters  \n",
       "67                 Titanium dioxide  \n",
       "\n",
       "[68 rows x 3 columns]"
      ]
     },
     "execution_count": 25,
     "metadata": {},
     "output_type": "execute_result"
    }
   ],
   "source": [
    "discontinued_df['short_name'] = discontinued_df['ChemicalName'].apply(lambda x: str(x).split(',')[0])\n",
    "# discontinued_df['short_name'] = discontinued_df['short_name'][0]\n",
    "discontinued_df"
   ]
  },
  {
   "cell_type": "code",
   "execution_count": 27,
   "id": "eda84f17-ed07-4039-b39f-27d6f0f75ded",
   "metadata": {},
   "outputs": [
    {
     "data": {
      "image/png": "[encoded data removed]",
      "text/plain": [
       "<Figure size 1500x700 with 1 Axes>"
      ]
     },
     "metadata": {},
     "output_type": "display_data"
    }
   ],
   "source": [
    "import matplotlib.pyplot as plt\n",
    "\n",
    "plt.figure(figsize=(15, 7))\n",
    "plt.barh(discontinued_df.tail(3).short_name, discontinued_df.tail(3)['count'])\n",
    "plt.title(\"Discontinued Chemicals\", fontsize=22)\n",
    "plt.ylabel(\"Chemical Name\", fontsize=20)\n",
    "plt.xlabel(\"Reported Chemicals Count\", fontsize=20)\n",
    "plt.xticks(fontsize=18, fontweight='bold')\n",
    "plt.yticks(fontsize=18, fontweight='bold')\n",
    "plt.box(on=False)\n",
    "# plt.grid(axis='y', color='gray', linestyle='--', linewidth=0.3)\n",
    "# plt.show()\n",
    "plt.savefig('Discontinued_Chemicals.png', bbox_inches='tight', pad_inches=1)"
   ]
  },
  {
   "cell_type": "code",
   "execution_count": 156,
   "id": "31d022dc-5bd0-4025-9b7c-8fee809e0243",
   "metadata": {},
   "outputs": [],
   "source": [
    "# while titanium dioxide is by far the most frequently reported ingredient products with titanium dioxide are most discontinued "
   ]
  },
  {
   "cell_type": "markdown",
   "id": "1fcac984-f269-4ccd-9e77-ff0950007e6d",
   "metadata": {},
   "source": [
    "### Q2)Which prime category contains most of the products that have been discontinued?"
   ]
  },
  {
   "cell_type": "code",
   "execution_count": 29,
   "id": "b2e05777-6f79-43ae-be5d-a73bdc682375",
   "metadata": {},
   "outputs": [],
   "source": [
    "discounted_prime = clean_data.groupby(['PrimaryCategory'])['DiscontinuedDate'].count().sort_values(ascending=True)"
   ]
  },
  {
   "cell_type": "code",
   "execution_count": 31,
   "id": "d8965cd3-8bab-43c9-a4fa-8cef98eb75bc",
   "metadata": {},
   "outputs": [
    {
     "data": {
      "text/html": [
       "<div>\n",
       "<style scoped>\n",
       "    .dataframe tbody tr th:only-of-type {\n",
       "        vertical-align: middle;\n",
       "    }\n",
       "\n",
       "    .dataframe tbody tr th {\n",
       "        vertical-align: top;\n",
       "    }\n",
       "\n",
       "    .dataframe thead th {\n",
       "        text-align: right;\n",
       "    }\n",
       "</style>\n",
       "<table border=\"1\" class=\"dataframe\">\n",
       "  <thead>\n",
       "    <tr style=\"text-align: right;\">\n",
       "      <th></th>\n",
       "      <th>PrimaryCategory</th>\n",
       "      <th>DiscontinuedDate</th>\n",
       "    </tr>\n",
       "  </thead>\n",
       "  <tbody>\n",
       "    <tr>\n",
       "      <th>8</th>\n",
       "      <td>Bath Products</td>\n",
       "      <td>556</td>\n",
       "    </tr>\n",
       "    <tr>\n",
       "      <th>9</th>\n",
       "      <td>Nail Products</td>\n",
       "      <td>764</td>\n",
       "    </tr>\n",
       "    <tr>\n",
       "      <th>10</th>\n",
       "      <td>Sun-Related Products</td>\n",
       "      <td>853</td>\n",
       "    </tr>\n",
       "    <tr>\n",
       "      <th>11</th>\n",
       "      <td>Skin Care Products</td>\n",
       "      <td>1146</td>\n",
       "    </tr>\n",
       "    <tr>\n",
       "      <th>12</th>\n",
       "      <td>Makeup Products (non-permanent)</td>\n",
       "      <td>8367</td>\n",
       "    </tr>\n",
       "  </tbody>\n",
       "</table>\n",
       "</div>"
      ],
      "text/plain": [
       "                    PrimaryCategory  DiscontinuedDate\n",
       "8                     Bath Products               556\n",
       "9                     Nail Products               764\n",
       "10             Sun-Related Products               853\n",
       "11              Skin Care Products               1146\n",
       "12  Makeup Products (non-permanent)              8367"
      ]
     },
     "execution_count": 31,
     "metadata": {},
     "output_type": "execute_result"
    }
   ],
   "source": [
    "discounted_prime_df = pd.DataFrame(discounted_prime)\n",
    "discounted_prime_df = discounted_prime_df.reset_index()\n",
    "discounted_prime_df.tail(5)"
   ]
  },
  {
   "cell_type": "code",
   "execution_count": 33,
   "id": "8b9dc327-cb07-4ba2-bced-79cbcf4aef27",
   "metadata": {},
   "outputs": [],
   "source": [
    "import matplotlib.pyplot as plt"
   ]
  },
  {
   "cell_type": "code",
   "execution_count": 35,
   "id": "8f5bb5f2-be2c-4e15-bc59-04beb9100f13",
   "metadata": {},
   "outputs": [
    {
     "data": {
      "image/png": "[encoded data removed]",
      "text/plain": [
       "<Figure size 1000x400 with 1 Axes>"
      ]
     },
     "metadata": {},
     "output_type": "display_data"
    }
   ],
   "source": [
    "import matplotlib.pyplot as plt\n",
    "\n",
    "plt.figure(figsize=(10, 4))\n",
    "plt.barh(discounted_prime_df.tail(5).PrimaryCategory, discounted_prime_df.tail(5).DiscontinuedDate)\n",
    "plt.title(\"Discontinued Products\")\n",
    "plt.ylabel(\"Prime Category\",fontweight='bold')\n",
    "plt.xlabel(\"Discontinued Date Count\",fontweight='bold')\n",
    "plt.box(on=False)\n",
    "# plt.grid(axis='y', color='gray', linestyle='--', linewidth=0.3)\n",
    "plt.savefig('Discontinued_Products.png', bbox_inches='tight', pad_inches=1)\n",
    "plt.show()"
   ]
  },
  {
   "cell_type": "code",
   "execution_count": 37,
   "id": "ece11c6b-d5f5-47dc-8b09-1c5a06c448a2",
   "metadata": {},
   "outputs": [],
   "source": [
    "# since most of products are used directly on sensitve body parts like eyes companies most likly to discontinued such products "
   ]
  },
  {
   "cell_type": "markdown",
   "id": "f6b9038c-8eac-4149-a3bd-30291b31ec79",
   "metadata": {},
   "source": [
    "### Q3)Which chemicals are more present per product prime category?"
   ]
  },
  {
   "cell_type": "code",
   "execution_count": 40,
   "id": "6b38fc64-79a9-44f7-90c7-504d68d411fa",
   "metadata": {},
   "outputs": [],
   "source": [
    "def condition(name, df):\n",
    "    '''\n",
    "    this function takes the top 5 chemicals and return all other chemical names as other to make it easier to plot \n",
    "    '''\n",
    "    top_5 = df.ChemicalName.head(5).to_list()\n",
    "    if name in top_5:\n",
    "        return name\n",
    "    else:\n",
    "        return 'others'\n",
    "    \n",
    "\n",
    "def others(df):\n",
    "    '''\n",
    "    this function takes a data frame and check all chemical names in it using condition() function and return a new column with the new names\n",
    "\n",
    "    '''\n",
    "    new_col = df.ChemicalName.apply(lambda name: condition(name, df))\n",
    "    return new_col\n",
    "        "
   ]
  },
  {
   "cell_type": "markdown",
   "id": "895631a1-5a4a-42f2-980d-a63974702e08",
   "metadata": {},
   "source": [
    "### Q3a) Makeup"
   ]
  },
  {
   "cell_type": "code",
   "execution_count": 43,
   "id": "93d06f98-cf53-4cbe-b52e-00ccd2dbcb08",
   "metadata": {},
   "outputs": [],
   "source": [
    "makeup_data_df = clean_data[clean_data['PrimaryCategory'] == 'Makeup Products (non-permanent)']\n",
    "makeup_data_df = makeup_data_df.value_counts('ChemicalName')\n",
    "makeup_data_df = pd.DataFrame(makeup_data_df)\n",
    "makeup_data_df = makeup_data_df.reset_index()\n",
    "makeup_data_df['new_chemical_name'] = others(makeup_data_df)\n",
    "makeup_data_df['percentage'] = makeup_data_df['count'].apply(lambda x:(x/makeup_data_df['count'].sum())*100)                                            \n",
    "makeup_top_5 = pd.DataFrame(makeup_data_df.groupby('new_chemical_name')[\"percentage\"].sum().sort_values())\n",
    "makeup_top_5.reset_index(inplace=True)"
   ]
  },
  {
   "cell_type": "code",
   "execution_count": 45,
   "id": "37d14e09-5a44-4916-83fb-4786e7db8d8a",
   "metadata": {},
   "outputs": [
    {
     "data": {
      "text/html": [
       "<div>\n",
       "<style scoped>\n",
       "    .dataframe tbody tr th:only-of-type {\n",
       "        vertical-align: middle;\n",
       "    }\n",
       "\n",
       "    .dataframe tbody tr th {\n",
       "        vertical-align: top;\n",
       "    }\n",
       "\n",
       "    .dataframe thead th {\n",
       "        text-align: right;\n",
       "    }\n",
       "</style>\n",
       "<table border=\"1\" class=\"dataframe\">\n",
       "  <thead>\n",
       "    <tr style=\"text-align: right;\">\n",
       "      <th></th>\n",
       "      <th>new_chemical_name</th>\n",
       "      <th>percentage</th>\n",
       "      <th>short_name</th>\n",
       "    </tr>\n",
       "  </thead>\n",
       "  <tbody>\n",
       "    <tr>\n",
       "      <th>0</th>\n",
       "      <td>Talc</td>\n",
       "      <td>1.918968</td>\n",
       "      <td>Talc</td>\n",
       "    </tr>\n",
       "    <tr>\n",
       "      <th>1</th>\n",
       "      <td>Butylated hydroxyanisole</td>\n",
       "      <td>2.031073</td>\n",
       "      <td>Butylated hydroxyanisole</td>\n",
       "    </tr>\n",
       "    <tr>\n",
       "      <th>2</th>\n",
       "      <td>Mica</td>\n",
       "      <td>2.310675</td>\n",
       "      <td>Mica</td>\n",
       "    </tr>\n",
       "    <tr>\n",
       "      <th>3</th>\n",
       "      <td>Silica, crystalline (airborne particles of res...</td>\n",
       "      <td>2.372662</td>\n",
       "      <td>Silica</td>\n",
       "    </tr>\n",
       "    <tr>\n",
       "      <th>4</th>\n",
       "      <td>others</td>\n",
       "      <td>5.713381</td>\n",
       "      <td>others</td>\n",
       "    </tr>\n",
       "    <tr>\n",
       "      <th>5</th>\n",
       "      <td>Titanium dioxide</td>\n",
       "      <td>85.653240</td>\n",
       "      <td>Titanium dioxide</td>\n",
       "    </tr>\n",
       "  </tbody>\n",
       "</table>\n",
       "</div>"
      ],
      "text/plain": [
       "                                   new_chemical_name  percentage  \\\n",
       "0                                               Talc    1.918968   \n",
       "1                           Butylated hydroxyanisole    2.031073   \n",
       "2                                               Mica    2.310675   \n",
       "3  Silica, crystalline (airborne particles of res...    2.372662   \n",
       "4                                             others    5.713381   \n",
       "5                                   Titanium dioxide   85.653240   \n",
       "\n",
       "                 short_name  \n",
       "0                      Talc  \n",
       "1  Butylated hydroxyanisole  \n",
       "2                      Mica  \n",
       "3                    Silica  \n",
       "4                    others  \n",
       "5          Titanium dioxide  "
      ]
     },
     "execution_count": 45,
     "metadata": {},
     "output_type": "execute_result"
    }
   ],
   "source": [
    "makeup_top_5['short_name'] = makeup_top_5['new_chemical_name'].apply(lambda x: str(x).split(',')[0])\n",
    "makeup_top_5"
   ]
  },
  {
   "cell_type": "code",
   "execution_count": 47,
   "id": "4f856b7a-027c-4a39-bcab-137f8c862301",
   "metadata": {
    "scrolled": true
   },
   "outputs": [
    {
     "data": {
      "image/png": "[encoded data removed]",
      "text/plain": [
       "<Figure size 1000x400 with 1 Axes>"
      ]
     },
     "metadata": {},
     "output_type": "display_data"
    }
   ],
   "source": [
    "import matplotlib.pyplot as plt\n",
    "\n",
    "plt.figure(figsize=(10, 4))\n",
    "plt.barh(makeup_top_5.tail(6).short_name, makeup_top_5.tail(6)['percentage'])\n",
    "plt.title(\"Chemicals in Makeup Products\")\n",
    "plt.ylabel(\"Chemical Name\")\n",
    "plt.xlabel(\"Percentage\")\n",
    "plt.box(on=False)\n",
    "# plt.grid(axis='y', color='gray', linestyle='--', linewidth=0.3)\n",
    "plt.savefig('Chemicals_in_Makeup_Products.png', bbox_inches='tight', pad_inches=1)\n",
    "plt.show()"
   ]
  },
  {
   "cell_type": "markdown",
   "id": "8e6d171a-9017-403a-a0c5-51d16ee90403",
   "metadata": {},
   "source": [
    "### Q3b) Nail Products"
   ]
  },
  {
   "cell_type": "code",
   "execution_count": 50,
   "id": "19334848-2fc9-4d00-b395-7b3d8e80fcc2",
   "metadata": {},
   "outputs": [],
   "source": [
    "nail_data_df = clean_data[clean_data['PrimaryCategory'] == 'Nail Products']\n",
    "nail_data_df = nail_data_df.value_counts('ChemicalName')\n",
    "nail_data_df = pd.DataFrame(nail_data_df)\n",
    "nail_data_df = nail_data_df.reset_index()\n",
    "nail_data_df['new_chemical_name'] = others(nail_data_df)\n",
    "nail_data_df['percentage'] = nail_data_df['count'].apply(lambda x:(x/nail_data_df['count'].sum())*100)                                            \n",
    "nail_top_5 = pd.DataFrame(nail_data_df.groupby('new_chemical_name')[\"percentage\"].sum().sort_values())\n",
    "nail_top_5.reset_index(inplace=True)"
   ]
  },
  {
   "cell_type": "code",
   "execution_count": 52,
   "id": "5d50850a-8bba-4bd0-81b6-d8ea98e8ec68",
   "metadata": {},
   "outputs": [
    {
     "data": {
      "text/html": [
       "<div>\n",
       "<style scoped>\n",
       "    .dataframe tbody tr th:only-of-type {\n",
       "        vertical-align: middle;\n",
       "    }\n",
       "\n",
       "    .dataframe tbody tr th {\n",
       "        vertical-align: top;\n",
       "    }\n",
       "\n",
       "    .dataframe thead th {\n",
       "        text-align: right;\n",
       "    }\n",
       "</style>\n",
       "<table border=\"1\" class=\"dataframe\">\n",
       "  <thead>\n",
       "    <tr style=\"text-align: right;\">\n",
       "      <th></th>\n",
       "      <th>new_chemical_name</th>\n",
       "      <th>percentage</th>\n",
       "      <th>short_name</th>\n",
       "    </tr>\n",
       "  </thead>\n",
       "  <tbody>\n",
       "    <tr>\n",
       "      <th>0</th>\n",
       "      <td>Carbon black (airborne, unbound particles of r...</td>\n",
       "      <td>1.120740</td>\n",
       "      <td>Carbon black (airborne</td>\n",
       "    </tr>\n",
       "    <tr>\n",
       "      <th>1</th>\n",
       "      <td>Retinol/retinyl esters, when in daily dosages ...</td>\n",
       "      <td>1.309702</td>\n",
       "      <td>Retinol/retinyl esters</td>\n",
       "    </tr>\n",
       "    <tr>\n",
       "      <th>2</th>\n",
       "      <td>others</td>\n",
       "      <td>3.499055</td>\n",
       "      <td>others</td>\n",
       "    </tr>\n",
       "    <tr>\n",
       "      <th>3</th>\n",
       "      <td>Carbon black</td>\n",
       "      <td>4.789210</td>\n",
       "      <td>Carbon black</td>\n",
       "    </tr>\n",
       "    <tr>\n",
       "      <th>4</th>\n",
       "      <td>Silica, crystalline (airborne particles of res...</td>\n",
       "      <td>5.323516</td>\n",
       "      <td>Silica</td>\n",
       "    </tr>\n",
       "    <tr>\n",
       "      <th>5</th>\n",
       "      <td>Titanium dioxide</td>\n",
       "      <td>83.957777</td>\n",
       "      <td>Titanium dioxide</td>\n",
       "    </tr>\n",
       "  </tbody>\n",
       "</table>\n",
       "</div>"
      ],
      "text/plain": [
       "                                   new_chemical_name  percentage  \\\n",
       "0  Carbon black (airborne, unbound particles of r...    1.120740   \n",
       "1  Retinol/retinyl esters, when in daily dosages ...    1.309702   \n",
       "2                                             others    3.499055   \n",
       "3                                       Carbon black    4.789210   \n",
       "4  Silica, crystalline (airborne particles of res...    5.323516   \n",
       "5                                   Titanium dioxide   83.957777   \n",
       "\n",
       "               short_name  \n",
       "0  Carbon black (airborne  \n",
       "1  Retinol/retinyl esters  \n",
       "2                  others  \n",
       "3            Carbon black  \n",
       "4                  Silica  \n",
       "5        Titanium dioxide  "
      ]
     },
     "execution_count": 52,
     "metadata": {},
     "output_type": "execute_result"
    }
   ],
   "source": [
    "nail_top_5['short_name'] = nail_top_5['new_chemical_name'].apply(lambda x: str(x).split(',')[0])\n",
    "nail_top_5"
   ]
  },
  {
   "cell_type": "code",
   "execution_count": 54,
   "id": "13a456a8-df13-4429-980c-da5155b04c51",
   "metadata": {},
   "outputs": [
    {
     "data": {
      "image/png": "[encoded data removed]",
      "text/plain": [
       "<Figure size 1000x400 with 1 Axes>"
      ]
     },
     "metadata": {},
     "output_type": "display_data"
    }
   ],
   "source": [
    "plt.figure(figsize=(10, 4))\n",
    "plt.barh(nail_top_5.tail(6).short_name,nail_top_5.tail(6)['percentage'])\n",
    "plt.title(\"Chemicals in Nail Products\")\n",
    "plt.ylabel(\"Chemical Name\",fontweight='bold')\n",
    "plt.xlabel(\"Percentage\",fontweight='bold')\n",
    "plt.box(on=False)\n",
    "#plt.grid(axis='y', color='gray', linestyle='--', linewidth=0.3)\n",
    "#plt.show()\n",
    "plt.savefig('Chemicals_in_Nail_Products.png', bbox_inches='tight', pad_inches=1)"
   ]
  },
  {
   "cell_type": "markdown",
   "id": "98fbf09f-8791-425c-8db4-4e75a511edc7",
   "metadata": {},
   "source": [
    "### Q3c) Skin Care Products"
   ]
  },
  {
   "cell_type": "code",
   "execution_count": 57,
   "id": "8d751c3f-45b8-40d1-92ab-347963d7b70b",
   "metadata": {},
   "outputs": [
    {
     "data": {
      "text/plain": [
       "array(['Makeup Products (non-permanent)',\n",
       "       'Hair Care Products (non-coloring)', 'Nail Products',\n",
       "       'Personal Care Products', 'Sun-Related Products', 'Bath Products',\n",
       "       'Skin Care Products ', 'Fragrances',\n",
       "       'Tattoos and Permanent Makeup', 'Hair Coloring Products',\n",
       "       'Oral Hygiene Products', 'Shaving Products', 'Baby Products'],\n",
       "      dtype=object)"
      ]
     },
     "execution_count": 57,
     "metadata": {},
     "output_type": "execute_result"
    }
   ],
   "source": [
    "clean_data['PrimaryCategory'].unique()"
   ]
  },
  {
   "cell_type": "code",
   "execution_count": 59,
   "id": "e840d8f4-baec-413b-8d59-a463c9a29952",
   "metadata": {},
   "outputs": [],
   "source": [
    "skin_data_df = clean_data[clean_data['PrimaryCategory'] == 'Skin Care Products ']\n",
    "skin_data_df = skin_data_df.value_counts('ChemicalName')\n",
    "skin_data_df = pd.DataFrame(skin_data_df)\n",
    "skin_data_df = skin_data_df.reset_index()\n",
    "skin_data_df['new_chemical_name'] = others(skin_data_df)\n",
    "skin_data_df['percentage'] = skin_data_df['count'].apply(lambda x:(x/skin_data_df['count'].sum())*100)                                            \n",
    "skin_top_5 = pd.DataFrame(skin_data_df.groupby('new_chemical_name')[\"percentage\"].sum().sort_values())\n",
    "skin_top_5.reset_index(inplace=True)"
   ]
  },
  {
   "cell_type": "code",
   "execution_count": 61,
   "id": "3edaac5a-9c8e-4066-a0ce-c9664081a932",
   "metadata": {},
   "outputs": [
    {
     "data": {
      "text/html": [
       "<div>\n",
       "<style scoped>\n",
       "    .dataframe tbody tr th:only-of-type {\n",
       "        vertical-align: middle;\n",
       "    }\n",
       "\n",
       "    .dataframe tbody tr th {\n",
       "        vertical-align: top;\n",
       "    }\n",
       "\n",
       "    .dataframe thead th {\n",
       "        text-align: right;\n",
       "    }\n",
       "</style>\n",
       "<table border=\"1\" class=\"dataframe\">\n",
       "  <thead>\n",
       "    <tr style=\"text-align: right;\">\n",
       "      <th></th>\n",
       "      <th>new_chemical_name</th>\n",
       "      <th>percentage</th>\n",
       "      <th>short_name</th>\n",
       "    </tr>\n",
       "  </thead>\n",
       "  <tbody>\n",
       "    <tr>\n",
       "      <th>0</th>\n",
       "      <td>Triethanolamine</td>\n",
       "      <td>2.955729</td>\n",
       "      <td>Triethanolamine</td>\n",
       "    </tr>\n",
       "    <tr>\n",
       "      <th>1</th>\n",
       "      <td>Cocamide diethanolamine</td>\n",
       "      <td>2.981771</td>\n",
       "      <td>Cocamide diethanolamine</td>\n",
       "    </tr>\n",
       "    <tr>\n",
       "      <th>2</th>\n",
       "      <td>Vitamin A palmitate</td>\n",
       "      <td>6.028646</td>\n",
       "      <td>Vitamin A palmitate</td>\n",
       "    </tr>\n",
       "    <tr>\n",
       "      <th>3</th>\n",
       "      <td>Retinol/retinyl esters, when in daily dosages ...</td>\n",
       "      <td>6.640625</td>\n",
       "      <td>Retinol/retinyl esters</td>\n",
       "    </tr>\n",
       "    <tr>\n",
       "      <th>4</th>\n",
       "      <td>others</td>\n",
       "      <td>19.635417</td>\n",
       "      <td>others</td>\n",
       "    </tr>\n",
       "    <tr>\n",
       "      <th>5</th>\n",
       "      <td>Titanium dioxide</td>\n",
       "      <td>61.757812</td>\n",
       "      <td>Titanium dioxide</td>\n",
       "    </tr>\n",
       "  </tbody>\n",
       "</table>\n",
       "</div>"
      ],
      "text/plain": [
       "                                   new_chemical_name  percentage  \\\n",
       "0                                    Triethanolamine    2.955729   \n",
       "1                            Cocamide diethanolamine    2.981771   \n",
       "2                                Vitamin A palmitate    6.028646   \n",
       "3  Retinol/retinyl esters, when in daily dosages ...    6.640625   \n",
       "4                                             others   19.635417   \n",
       "5                                   Titanium dioxide   61.757812   \n",
       "\n",
       "                short_name  \n",
       "0          Triethanolamine  \n",
       "1  Cocamide diethanolamine  \n",
       "2      Vitamin A palmitate  \n",
       "3   Retinol/retinyl esters  \n",
       "4                   others  \n",
       "5         Titanium dioxide  "
      ]
     },
     "execution_count": 61,
     "metadata": {},
     "output_type": "execute_result"
    }
   ],
   "source": [
    "skin_top_5['short_name'] = skin_top_5['new_chemical_name'].apply(lambda x: str(x).split(',')[0])\n",
    "skin_top_5"
   ]
  },
  {
   "cell_type": "code",
   "execution_count": 63,
   "id": "ac9d9688-f83f-4166-8aba-c0d58a952f75",
   "metadata": {},
   "outputs": [
    {
     "data": {
      "image/png": "[encoded data removed]",
      "text/plain": [
       "<Figure size 1000x400 with 1 Axes>"
      ]
     },
     "metadata": {},
     "output_type": "display_data"
    }
   ],
   "source": [
    "plt.figure(figsize=(10, 4))\n",
    "plt.barh(skin_top_5.tail(6).short_name,skin_top_5.tail(6)['percentage'])\n",
    "plt.title(\"Chemicals in Skin Care Products\")\n",
    "plt.ylabel(\"Chemical Name\",fontweight='bold')\n",
    "plt.xlabel(\"Percentage\",fontweight='bold')\n",
    "plt.box(on=False)\n",
    "#plt.grid(axis='y', color='gray', linestyle='--', linewidth=0.3)\n",
    "#plt.show()\n",
    "plt.savefig('Chemicals_in_Skin_Care_Products.png', bbox_inches='tight', pad_inches=1)"
   ]
  },
  {
   "cell_type": "markdown",
   "id": "5ba46f3b-3498-4d4c-be4f-d1e1e4b0d4dc",
   "metadata": {},
   "source": [
    "### Q4)Which companies have discontinued products and which ones haven’t at all? "
   ]
  },
  {
   "cell_type": "code",
   "execution_count": 66,
   "id": "3c6155e2-2cbf-4b90-90b6-77a63fbc2610",
   "metadata": {},
   "outputs": [],
   "source": [
    "#company with discontinued products\n",
    "company_discontinued_df = clean_data.groupby(clean_data['CompanyName'].str.strip().str.upper())['DiscontinuedDate'].count().sort_values(ascending=False)"
   ]
  },
  {
   "cell_type": "code",
   "execution_count": 68,
   "id": "554baab9-c7a2-43e7-9c73-d39518d4d06c",
   "metadata": {},
   "outputs": [
    {
     "data": {
      "text/html": [
       "<div>\n",
       "<style scoped>\n",
       "    .dataframe tbody tr th:only-of-type {\n",
       "        vertical-align: middle;\n",
       "    }\n",
       "\n",
       "    .dataframe tbody tr th {\n",
       "        vertical-align: top;\n",
       "    }\n",
       "\n",
       "    .dataframe thead th {\n",
       "        text-align: right;\n",
       "    }\n",
       "</style>\n",
       "<table border=\"1\" class=\"dataframe\">\n",
       "  <thead>\n",
       "    <tr style=\"text-align: right;\">\n",
       "      <th></th>\n",
       "      <th>CompanyName</th>\n",
       "      <th>DiscontinuedDate</th>\n",
       "    </tr>\n",
       "  </thead>\n",
       "  <tbody>\n",
       "    <tr>\n",
       "      <th>0</th>\n",
       "      <td>THE PROCTER &amp; GAMBLE COMPANY</td>\n",
       "      <td>2856</td>\n",
       "    </tr>\n",
       "    <tr>\n",
       "      <th>1</th>\n",
       "      <td>VICTORIA'S SECRET BEAUTY</td>\n",
       "      <td>1176</td>\n",
       "    </tr>\n",
       "    <tr>\n",
       "      <th>2</th>\n",
       "      <td>ELIZABETH ARDEN, INC.</td>\n",
       "      <td>743</td>\n",
       "    </tr>\n",
       "    <tr>\n",
       "      <th>3</th>\n",
       "      <td>MAESA LLC</td>\n",
       "      <td>643</td>\n",
       "    </tr>\n",
       "    <tr>\n",
       "      <th>4</th>\n",
       "      <td>BATH &amp; BODY WORKS</td>\n",
       "      <td>563</td>\n",
       "    </tr>\n",
       "  </tbody>\n",
       "</table>\n",
       "</div>"
      ],
      "text/plain": [
       "                    CompanyName  DiscontinuedDate\n",
       "0  THE PROCTER & GAMBLE COMPANY              2856\n",
       "1      VICTORIA'S SECRET BEAUTY              1176\n",
       "2         ELIZABETH ARDEN, INC.               743\n",
       "3                     MAESA LLC               643\n",
       "4             BATH & BODY WORKS               563"
      ]
     },
     "execution_count": 68,
     "metadata": {},
     "output_type": "execute_result"
    }
   ],
   "source": [
    "company_discontinued_df = pd.DataFrame(company_discontinued_df).reset_index()\n",
    "company_discontinued_df.head(5)\n",
    "# company_discontinued_df.tail(5)"
   ]
  },
  {
   "cell_type": "code",
   "execution_count": 70,
   "id": "a29e67ca-7825-436d-8ae1-4c12ccd97783",
   "metadata": {},
   "outputs": [
    {
     "data": {
      "text/plain": [
       "Index(['CompanyName', 'DiscontinuedDate'], dtype='object')"
      ]
     },
     "execution_count": 70,
     "metadata": {},
     "output_type": "execute_result"
    }
   ],
   "source": [
    "company_discontinued_df.columns"
   ]
  },
  {
   "cell_type": "code",
   "execution_count": 72,
   "id": "b9c8853e-90c9-441b-81ef-558c4eef9e70",
   "metadata": {},
   "outputs": [
    {
     "data": {
      "image/png": "[encoded data removed]",
      "text/plain": [
       "<Figure size 1000x400 with 1 Axes>"
      ]
     },
     "metadata": {},
     "output_type": "display_data"
    }
   ],
   "source": [
    "plt.figure(figsize=(10, 4))\n",
    "plt.barh(company_discontinued_df.head(5)['CompanyName'],company_discontinued_df.head(5).DiscontinuedDate)\n",
    "plt.title(\"Companies with Discontinued products\")\n",
    "plt.ylabel(\"CompanyName\",fontweight='bold')\n",
    "plt.xlabel(\"Discontinued Count\",fontweight='bold')\n",
    "plt.box(on=False)\n",
    "#plt.grid(axis='y', color='gray', linestyle='--', linewidth=0.3)\n",
    "#plt.show()\n",
    "plt.savefig('Companies_with_Discontinued.png', bbox_inches='tight', pad_inches=1)"
   ]
  },
  {
   "cell_type": "code",
   "execution_count": 74,
   "id": "70d7509b-8029-4d9d-9b9b-6f4cca748320",
   "metadata": {},
   "outputs": [
    {
     "data": {
      "text/plain": [
       "415"
      ]
     },
     "execution_count": 74,
     "metadata": {},
     "output_type": "execute_result"
    }
   ],
   "source": [
    "#company with no discontinued products\n",
    "company_discontinued_df[company_discontinued_df['DiscontinuedDate'] == 0]['CompanyName'].count()"
   ]
  },
  {
   "cell_type": "code",
   "execution_count": 76,
   "id": "a1110b94-6acf-41c4-b7f7-a781e019cb63",
   "metadata": {
    "scrolled": true
   },
   "outputs": [
    {
     "data": {
      "text/plain": [
       "array(['PRIMORANCE', 'NEW FRAGRANCE CONTINENTAL INC.',\n",
       "       'NAIL ALLIANCE, LLC', 'NEW SPIRIT NATURALS, INC.',\n",
       "       'NINGBO MEITELI COSMETICS CO.,LTD.', 'PHILOSOPHY',\n",
       "       'NAIL MAGIC LLC', \"NATURE'S SUNSHINE PRODUCTS, INC.\",\n",
       "       'NAMASTE LABORATORIES', 'PINNACLE COSMETICS',\n",
       "       'NEOSTRATA COMPANY, INC., A JOHNSON & JOHNSON COMPANY',\n",
       "       'PLCOSMETIC', 'NATURA BISSE INTERNATIONAL', 'NATURAL SOLTER S.L.',\n",
       "       'PPP&C INC.', 'PRAI BEAUTY GROUP INC', 'NATURAL WEALTH',\n",
       "       'NEOSTRATA COMPANY, INC.', 'PRIMA-DERM, S.L.',\n",
       "       'PRESCRIPTIVES INC.', 'PARFUMS DE COEUR, LTD.',\n",
       "       'NINGBO REJOICE I/E CO., LTD.',\n",
       "       'NINGHAI JIXIANG STATIONERY FACTORY', 'PARFUMS LORIS AZZARO',\n",
       "       'PARFUMS NINA RICCI', 'PACO RABANNE PARFUMS', 'PACHA SOAP CO.',\n",
       "       'OSEA MALIBU', 'ORLY INTERNATIONAL', 'ORLANE, INC',\n",
       "       'ORIGINS NATURAL RESOURCES INC.', 'ORIBE HAIR CARE LLC',\n",
       "       'OJON CORPORATIONA', 'PEARLOSOPHY USA, LLC', 'OCEANA USA, INC.',\n",
       "       'OBAGI MEDICAL PRODUCTS, INC.',\n",
       "       'PERFECT ANGEL COSMETICS & HEALTH CO., LIMITED',\n",
       "       'NYX LOS ANGELES, INC.', 'NUTRIMETICS AUSTRALIA PTY LIMITED',\n",
       "       'PERFECTLY PURE', 'PERRICONE MD', 'PERRON RIGOT', 'PERSON & COVEY',\n",
       "       'PARFUMS GIVENCHY S.A.', 'PETTENON COSMETICI SRL', 'NUDESTIX',\n",
       "       'NOVELTY, INC.', 'PFIZER CONSUMER HEALTHCARE',\n",
       "       'NO LIFT NAILS INC.', 'PHARMCO LABORATORIES',\n",
       "       'PETLAB COSMETICS, LLC', '2355644 ONTARIO INC.',\n",
       "       'PRIVATE LABEL SELECT LTD', 'USANA HEALTH SCIENCES, INC.',\n",
       "       'URBAN DECAY COSMETICS', 'UPPER CANADA SOAP & CANDLE MAKERS CORP.',\n",
       "       'UNIVERSITY MEDICAL PHARMACEUTICALS CORP',\n",
       "       'ULTIMATE FACE COSMETICS, INC', 'TWEEZERMAN INTERNATIONAL LLC',\n",
       "       'TURQUISE GLOBAL LLC', 'TUPPERWARE U.S., INC.',\n",
       "       'TROPICAL SEAS, INC.', 'TRIVANI INTERNATIONAL, L.L.C.',\n",
       "       'TRISH MCEVOY COSMETICS LIMITED', 'TRESSA INC.',\n",
       "       'TRADEMARK COSMETICS, INC.', 'TRADE WEST, INC.', 'TOWNLEY INC',\n",
       "       'TOPCO ASSOCIATES, LLC', 'THIERRY MUGLER PARFUMS', 'THEBALM',\n",
       "       'THE VILLAGE COMPANY, LLC', 'THE TEND SKIN COMPANY',\n",
       "       'THE SANCTUARY SPA HOLDINGS LTD', \"THE NATURE'S BOUNTY COMPANY\",\n",
       "       'THE MENTHOLATUM COMPANY', 'THE LANO COMPANY', 'THE KROGER CO.',\n",
       "       'THE KAMA SUTRA', 'US COSMECEUTECHS, LLC',\n",
       "       'VALEANT PHARMACEUTICALS NORTH AMERICA',\n",
       "       'THE HIMALAYA DRUG COMPANY', 'VB COSMETICS, INC.',\n",
       "       'ZOHAR COSMETICS (M.F.O.) LTD.', 'ZOEVA GMBH', 'ZIBA BEAUTY',\n",
       "       'ZHEJIANG YIWU LUCY COSMETICS CO.,LTD.', 'ZELENS',\n",
       "       'ZEE MEDICAL, INC', 'ZALAN PRODUCTS, INC.', \"ZACH'S WAX\",\n",
       "       'YOUNG NAILS, INC.', 'YIWU ARIS COSMETIC MANUFACTORY',\n",
       "       'YES TO INC.', 'YANTAI DUPONT DAILY NECESSITIES CO., LTD.',\n",
       "       'YANBAL USA, INC', 'XTREME COLOR, INC.',\n",
       "       'WORLD CLUB SUPPPLY CORP.', 'WOOSIN COSMETICS CO., LTD',\n",
       "       'WHITER IMAGE', 'WHISK PRODUCTS, INC',\n",
       "       'WELLMADE HOUSEHOLD & HEALTH CARE CO., LTD', 'WE ARE LUXE LTD.',\n",
       "       'WATKINS, INC', 'WALMART', 'WAHL CLIPPER CORP.',\n",
       "       'VOSS LABORATORIES', 'VI-JON, INC', 'THE HONEST COMPANY',\n",
       "       'THE BROWGAL', 'PROCLEAN INC.', 'SERYSI USA INC',\n",
       "       'SD BIOTECHNOLOGIES USA, INC.',\n",
       "       'SCRUPLES PROFESSIONAL SALON PRODUCTS, INC.',\n",
       "       'SCIENCE OF SKINCARE, LLC', 'SCHWARZKOPF, INC.', 'SCHERER, INC.',\n",
       "       'SALERM COSM�TICA PROFESIONAL,INC.', 'SAJE NATURAL BUSINESS INC.',\n",
       "       'RT GROUP', 'ROWPAR PHARMACEUTICALS, INC', 'ROLLAND SRL',\n",
       "       'RODAN + FIELDS', 'ROBELL RESEARCH', 'ROBANDA INTERNATIONAL',\n",
       "       'RMS BEAUTY', 'RITE AID CORPORATION', 'REXALL-SUNDOWN',\n",
       "       'REVISION, LLC', 'REFORMA GROUP', 'RED CARPET MANICURE',\n",
       "       'REA.DEEMING BEAUTY, INC.', 'RAPHA RACING LTD.',\n",
       "       'RAINBOW COSMETICS MANCHESTER LTD', 'R AND T CREATION LTD',\n",
       "       'PURETEK CORPORATION', 'PROSTRONG INC.',\n",
       "       'SELECTED CHEMICAL PRODUCTS COMPANY', 'SEXY HAIR', 'TEST',\n",
       "       'SHIKAI PRODUCTS', 'TATCHA LLC', 'TASTE BEAUTY LLC',\n",
       "       'TARTE COSMETICS', 'TAMMY TAYLOR NAILS, INC.',\n",
       "       'TAHITIAN NONI INTERNATIONAL, INC.', 'SYSCO GUEST SUPPLY LLC.',\n",
       "       'SWANSON HEALTH PRODUCTS', 'SUPRE', 'SUPERVALU INC.',\n",
       "       'SUNFLOWER DISTRIBUTING', 'SUN PHARMACEUTICALS, LLC',\n",
       "       'SUN & SKIN CARE RESEARCH, INC', 'STUDIO GEAR COSMETICS, INC.',\n",
       "       'STRIVECTIN OPERATING COMPANY, INC.', 'STILA STYLES LLC',\n",
       "       'STILA STYLE LLC.', 'STENDHAL', 'SPACE BRANDS LIMITED',\n",
       "       'SPA DE SOLEIL', 'SOTHYS USA INC', 'SONYA DAKAR SKIN CARE', 'SOMA',\n",
       "       'SMITH & VANDIVER CORPORATION', 'SKINN COSMETICS, LLC',\n",
       "       'SHISEIDO AMERICAS CORPORATION', 'NAIL ALLIANCE - ENTITY',\n",
       "       \"LAUREN HUTTON'S GOOD STUFF LLC\", 'MULTALER & CIE S.A.',\n",
       "       'DAVINES S.P.A.', 'CYPRESS MEDICAL PRODUCTS',\n",
       "       'CUSTOM AMENITIES INC.', 'CREATIVE NAIL DESIGN, INC.',\n",
       "       'COVER FX SKINCARE INC', 'COUNTRY LIFE, LLC', 'COSSWISS AG',\n",
       "       'COSMOPHARM LTD.', 'COSMETIC DERMATOLOGY INC', 'COSMEDIX',\n",
       "       'COS.BRANDS, LLC', 'CORIA LABORITORIES', 'CORE BRANDS',\n",
       "       'COOL CUTS 4 KIDS', 'CONCEPT LABORATORIES, INC.',\n",
       "       'COLOMER U.S.A., INC.', 'COLBERT+', 'CLINIQUE LABORATORIES, LLC',\n",
       "       'CLARINS S.A.', 'CHROME HEARTS LLC',\n",
       "       'CHARLOTTE TILBURY BEAUTY LTD',\n",
       "       'CERAS ESPECIALES MARTINEZ DE SAN VICENTE SA',\n",
       "       'CENTRIC BEAUTY, LLC', 'CCS, CLEAN CHEMICAL SWEDEN AB',\n",
       "       'CAMEO TRADING CO., INC.', 'CALIFORNIA NORTH', 'CALIFORNIA MANGO',\n",
       "       'CALIBRE BEAUT�, A DIVISION OF QUADRANT COSMETICS CORP.',\n",
       "       'DARPHIN LLC', 'DBA SAS', 'CALEEL+HAYDEN', 'DEBORAH LIPPMANN',\n",
       "       'EXCLUSIVE FRAGRANCES & COSMETICS', 'ESTEE LAUDER INC.',\n",
       "       'ESALON.COM LLC', 'ERBAVIVA LLC', 'ENTITY BEAUTY, INC.',\n",
       "       'ENG KAH ENTERPRISE SDN BHD', 'ENERGIZER PERSONAL CARE, LLC',\n",
       "       'ENCHANTE ACCESSORIES, INC.', 'ELYSEE COSMETICS',\n",
       "       'EDGEWELL PERSONAL CARE BRANDS, LLC', 'EARTH ESSENTIALS',\n",
       "       'E.T. BROWNE DRUG CO. INC.', 'E. EXCEL, LLC', 'DURI COSMETICS INC',\n",
       "       'DRUNK ELEPHANT LLC', 'DREAMBRANDS, INC',\n",
       "       'DR. NONA INTERNATIONAL LTD', 'DR. BABOR GMBH & CO. KG',\n",
       "       'DONGGUAN CHANGPING MEI YA COSMETICS FACTORY', 'DOLLAR SHAVE CLUB',\n",
       "       'DOLLAR CONNECTION LTD', 'DND DAISY NAIL PRODUCTS, INC.',\n",
       "       'DLC LABORATORIES, INC.', 'DESIGN PLUS HEALTH & BEAUTY LTD',\n",
       "       'DERMAQUEST, INC.', 'DEMETER FRAGRANCE LIBRARY, INC.',\n",
       "       'DELON LABORATORIES (1990) INC', 'CALI CHEM INC',\n",
       "       'CA-BOTANA INTERNATIONAL', 'FANTASIA INDUSTRIES',\n",
       "       'ARTISTIC NAIL DESIGN - NAIL ALLIANCE LLC', 'ARMAND DUPREE INC.',\n",
       "       'ARCHIPELAGO INC.', 'ARCADIA BEAUTY LABS, LLC', 'ARAMIS INC.',\n",
       "       'APOLLO HEALTH AND BEAUTY CARE INC.',\n",
       "       'APOLLO HEALTH AND BEAUTY CARE', 'ANTONIO PUIG S.A.',\n",
       "       'ANC SPA INC', 'AMWAY CORPORATION', 'AMOREPACIFIC US INC.',\n",
       "       'AMERICAN INTERNATIONAL INDUSTRIES',\n",
       "       'AMERICAN CONSUMER PRODUCTS, LLC', 'AMERICAN CONSUMER PRODUCTS',\n",
       "       'ALQVIMIA', 'ALPHAEON CORPORATION', 'ALOETTE COSMETICS INC.',\n",
       "       'ALOECARE INTERNATIONAL, LLC', 'ALOE VERA OF AMERICA, INC.',\n",
       "       'ALFALFA NAIL SUPPLY, INC.', 'ALESSANDRO INTERNATIONAL GMBH',\n",
       "       'ALBION COSMETICS (AMERICA), INC.', 'ALBERTO CULVER',\n",
       "       'AG PROFESSIONAL HAIR CARE PRODUCTS LTD', 'AESOP USA INC.',\n",
       "       'ADVANCED AESTHETICS, INC.', 'ACQUA DI PARMA',\n",
       "       'ACCESS BUSINESS GROUP INTERNATIONAL, LLC', 'AROMCA S.A',\n",
       "       'ASTARA SKIN CARE', 'B�RLIND OF GERMANY, INC.',\n",
       "       'ATHENA COSMETICS, INC.', 'BULGARI GLOBAL OPERATIONS SA',\n",
       "       'BRODIE & STONE', 'BREMENN RESEARCH LABS', 'BR SAS',\n",
       "       'BORBOLETA BEAUTY', 'BOBBI BROWN PROFESSIONAL COSMETICS, INC.',\n",
       "       'BLISS WORLD LLC', 'BLACK UP', 'BIOTOUCH, INC.',\n",
       "       'BIOCOSM�TICA EXEL ARGENTINA S.R.L.',\n",
       "       'BIO-DERM LABORATORIES, INC.', 'BETCO CORPORATION, LTD',\n",
       "       'BEST ACCESSORY GROUP', 'BENEV COMPANY, INC.',\n",
       "       'BEILIS DEVELOPMENT', 'BEAUTYBANK INC.', 'BEAUTY SOLUTIONS, LTD.',\n",
       "       'BEAUTY SOCIETY, INC.', 'BEAUTY SELECTIVES',\n",
       "       'BEAUTY 21 COSMETICS, INC.', 'BEAUTOPIA LLC',\n",
       "       'BEAUTICONTROL, INC.', 'BEACH HOUSE GROUP',\n",
       "       'BABOR COSMETICS AMERICA CORP', 'B & C PRODUCTS, INC.',\n",
       "       'AVEDA CORPORATION', 'ATLAS DEVELOPMENT LIMITED', 'EXPRESS, LLC',\n",
       "       'FARMACEUTICI DOTT. CICCARELLI SPA', 'MTG CO., LTD.',\n",
       "       'LG HOUSEHOLD & HEALTH CARE AMERICA INC.',\n",
       "       'LCA - LABORATORI DI CHIMICA APPLICATA SRL',\n",
       "       'A. P. DEAUVILLE, LLC', 'LADOVE INC', 'LABORATOIRES DR N.G. PAYOT',\n",
       "       'LABORATOIRES DR N.G PAYOT', 'LABORATOIRES DECLEOR',\n",
       "       'LABORATOIRE SINTYL SA',\n",
       "       'LABORATOIRE BIOSTHETIQUE KOSMETIK GMBH & CO.',\n",
       "       'LABO INTERNATIONAL SRL', 'LABEL.M USA INC', \"L'OREAL USA\",\n",
       "       'L&S COSMETICS & TOILETRIES (M) SDN BHD', 'KRYOLAN CORPORATION',\n",
       "       'KOS� AMERICA, INC.', 'KORRES S.A - NATURAL PRODUCTS',\n",
       "       'KMC EXIM CORPORATION/DASHING DIVA FRANCHISE CORP', 'KMC EXIM',\n",
       "       'KMART CORPORATION', 'KINGS AND QUEENS LTD',\n",
       "       'KINGMAN INDUSTRIES, INC', 'KEVIN MURPHY', 'KENDO HOLDINGS, INC.',\n",
       "       'KATE SOMERVILLE SKIN CARE', 'KAODER INDUSTRY COMPANY, LTD',\n",
       "       'JOHN PAUL MITCHELL SYSTEMS', 'JO MALONE INC.',\n",
       "       'JINHUA B&F COSMETICS CO., LTD.',\n",
       "       'LE GROUPE FRUITS & PASSION INC.', 'LI PIGMENTS',\n",
       "       'JEMMA KIDD MAKE UP LTD', 'LIGI IMPORT CORP.',\n",
       "       'MOR COSMETICS INTERNATIONAL LLC', 'MONTAGNE JEUNESSE',\n",
       "       'MOMOTANI JUNTENKAN LTD.', 'MODERE, INC.', 'MIRAGE COSMETICS INC',\n",
       "       'MIRABELLA', 'MILANI COSMETICS', 'MDSOLARSCIENCES �',\n",
       "       'MCKESSON MEDICAL-SURGICAL', 'MCCONNELL LABS, INC.', 'MAZUNTE LLC',\n",
       "       'MAX HUBER RESEARCH LABS, INC.', 'MAVALA S.A.', 'MARKET READY',\n",
       "       'MANNATECH INCORPORATED', 'MANA PRODUCTS INC.', 'MALIN & GOETZ',\n",
       "       'MAKINGCOSMETICS INC.', 'MAKEUP ART COSMETICS', 'M.T. MOCARA GMBH',\n",
       "       'LVMH FRAGRANCE BRANDS - KENZO PARFUMS', 'LUXURY BRAND PARTNERS',\n",
       "       'LUSH LTD', 'LT WHITE, INC.', 'LORNAMEAD', 'LOOK BEAUTY PRODUCTS',\n",
       "       'LIVE FLICKABLE, LLC', 'JIANGXI IRIS CHEMICAL CO.,LTD',\n",
       "       'JEAN PHILIPPE FRAGRANCES INC', 'FAROUK SYSTEMS, INC.',\n",
       "       'HADA S.A.', 'H&M GUTBERLET GMBH', 'GUTHY-RENKER, LLC',\n",
       "       'GURWITCH PRODUCTS', 'GUANGZHOU ZIXUAN BEAUTY EQUIPMENT CO.,LTD',\n",
       "       'GUANGZHOU BAIYUN DARONG FINE CHEMICAL INDUSTRY CO.,LTD.',\n",
       "       'GREENBRIER INTERNATIONAL, INC.',\n",
       "       'GREEN MOUNTAIN BIOTECH CO., LTD', 'GOODIER COSMETICS INC',\n",
       "       'GO SMILE, INC.', 'GIOVANNI COSMETICS, INC.',\n",
       "       'GERMAINE DE CAPUCCINI', 'GDCP INTERNATIONAL LTD',\n",
       "       'GARCOA LABORATORIES, INC.', 'G.O HOLDINGS, INC.',\n",
       "       'FUSION BRANDS INC.', 'FRESH, INC.', 'FRESH INC.', 'FRESH INC',\n",
       "       'FREEZE 24/7 INTERNATIONAL, LLC', 'FRANK BODY',\n",
       "       'FRAMESI-NORTH AMERICA', 'FRAGRANCE AND SKINCARE', 'FMK LABS',\n",
       "       'FISK INDUSTRIES INC', 'FEMME COUTURE INTERNATIONAL, INC.',\n",
       "       'FELPS USA, INC', 'FASHION FAIR, LLC', 'H2O PLUS, LLC',\n",
       "       'HALLMARK CARDS, INC.', 'JAFRA COSMETICS INTERNATIONAL',\n",
       "       'HAND & NAIL HARMONY, INC', 'J. STRICKLAND & CO.', 'IZAR SARL',\n",
       "       'IVY ENTERPRISES, INC.', 'ITALIAN GROUP SRL',\n",
       "       'IT GIRL BEAUTY, LLC', 'IREDALE MINERAL COSMETICS', 'IPD INC',\n",
       "       'INTERPARFUMS USA, LLC', 'INTERPARFUMS INC.', 'INTERPARFUMS',\n",
       "       'INSTANATURAL LLC', 'INGLOT USA LLC',\n",
       "       'IMPERIAL DAX HAIR CARE INC.', 'IBS BEAUTY INC',\n",
       "       'I.C.O.N. LINE, INC.', 'I LOVE COSMETICS LIMITED', 'HUDA BEAUTY',\n",
       "       'HOLLYWOOD ALLIANCE', 'HIGH RIDGE BRANDS', 'HERBSWORK CC',\n",
       "       'HERBAL HARVEST, INC.', 'HERBAL AUTHORITY', 'HELLO BODY GMBH',\n",
       "       'HAYASHI WORLDWIDE', 'HAYASHI TECNICA, LLC', 'HARMON STORES INC.',\n",
       "       'HANGZHOU BEJA COMMODITY CO., LTD', 'ZSCHIMMER & SCHWARZ, INC.'],\n",
       "      dtype=object)"
      ]
     },
     "execution_count": 76,
     "metadata": {},
     "output_type": "execute_result"
    }
   ],
   "source": [
    "#examples on company with no discontinued products\n",
    "condition = company_discontinued_df['DiscontinuedDate'] == 0\n",
    "company_discontinued_df[condition]['CompanyName'].unique()"
   ]
  },
  {
   "cell_type": "markdown",
   "id": "6da8cb7d-2341-44fb-b9c8-447961d8133e",
   "metadata": {},
   "source": [
    "### Q5)What are top 10 brands with most chemicals in there products?"
   ]
  },
  {
   "cell_type": "code",
   "execution_count": 79,
   "id": "2081f810-a870-439e-a070-43772ec80ec2",
   "metadata": {},
   "outputs": [],
   "source": [
    "\n",
    "#similer brand names are both in upper and lower case and some have space within the name thats why we used strip() and upper() for acurate results\n",
    "brands_upper = clean_data['BrandName'].str.strip().str.upper()\n",
    "all_upper_brands = brands_upper.value_counts().sort_values(ascending=True).tail(10)"
   ]
  },
  {
   "cell_type": "code",
   "execution_count": 81,
   "id": "58532b09-e996-4b92-9465-7f2e3df6513f",
   "metadata": {},
   "outputs": [
    {
     "data": {
      "text/html": [
       "<div>\n",
       "<style scoped>\n",
       "    .dataframe tbody tr th:only-of-type {\n",
       "        vertical-align: middle;\n",
       "    }\n",
       "\n",
       "    .dataframe tbody tr th {\n",
       "        vertical-align: top;\n",
       "    }\n",
       "\n",
       "    .dataframe thead th {\n",
       "        text-align: right;\n",
       "    }\n",
       "</style>\n",
       "<table border=\"1\" class=\"dataframe\">\n",
       "  <thead>\n",
       "    <tr style=\"text-align: right;\">\n",
       "      <th></th>\n",
       "      <th>BrandName</th>\n",
       "      <th>count</th>\n",
       "    </tr>\n",
       "  </thead>\n",
       "  <tbody>\n",
       "    <tr>\n",
       "      <th>0</th>\n",
       "      <td>NO7</td>\n",
       "      <td>1751</td>\n",
       "    </tr>\n",
       "    <tr>\n",
       "      <th>1</th>\n",
       "      <td>SALLY HANSEN</td>\n",
       "      <td>1869</td>\n",
       "    </tr>\n",
       "    <tr>\n",
       "      <th>2</th>\n",
       "      <td>VICTORIA'S SECRET BEAUTY</td>\n",
       "      <td>2106</td>\n",
       "    </tr>\n",
       "    <tr>\n",
       "      <th>3</th>\n",
       "      <td>NARS</td>\n",
       "      <td>2185</td>\n",
       "    </tr>\n",
       "    <tr>\n",
       "      <th>4</th>\n",
       "      <td>TARTE</td>\n",
       "      <td>2277</td>\n",
       "    </tr>\n",
       "    <tr>\n",
       "      <th>5</th>\n",
       "      <td>CHARLOTTE TILBURY</td>\n",
       "      <td>2469</td>\n",
       "    </tr>\n",
       "    <tr>\n",
       "      <th>6</th>\n",
       "      <td>REVLON</td>\n",
       "      <td>2711</td>\n",
       "    </tr>\n",
       "    <tr>\n",
       "      <th>7</th>\n",
       "      <td>BAREMINERALS</td>\n",
       "      <td>3164</td>\n",
       "    </tr>\n",
       "    <tr>\n",
       "      <th>8</th>\n",
       "      <td>NYX</td>\n",
       "      <td>3227</td>\n",
       "    </tr>\n",
       "    <tr>\n",
       "      <th>9</th>\n",
       "      <td>SEPHORA</td>\n",
       "      <td>5165</td>\n",
       "    </tr>\n",
       "  </tbody>\n",
       "</table>\n",
       "</div>"
      ],
      "text/plain": [
       "                  BrandName  count\n",
       "0                       NO7   1751\n",
       "1              SALLY HANSEN   1869\n",
       "2  VICTORIA'S SECRET BEAUTY   2106\n",
       "3                      NARS   2185\n",
       "4                     TARTE   2277\n",
       "5         CHARLOTTE TILBURY   2469\n",
       "6                    REVLON   2711\n",
       "7              BAREMINERALS   3164\n",
       "8                       NYX   3227\n",
       "9                   SEPHORA   5165"
      ]
     },
     "execution_count": 81,
     "metadata": {},
     "output_type": "execute_result"
    }
   ],
   "source": [
    "brands_df = pd.DataFrame(all_upper_brands).reset_index()\n",
    "brands_df"
   ]
  },
  {
   "cell_type": "code",
   "execution_count": 83,
   "id": "5389fdf0-8c58-42e8-b917-a080a43530d9",
   "metadata": {
    "scrolled": true
   },
   "outputs": [
    {
     "data": {
      "image/png": "[encoded data removed]",
      "text/plain": [
       "<Figure size 1000x400 with 1 Axes>"
      ]
     },
     "metadata": {},
     "output_type": "display_data"
    }
   ],
   "source": [
    "plt.figure(figsize=(10, 4))\n",
    "plt.barh(brands_df.tail(10).BrandName,brands_df.tail(10)['count'])\n",
    "plt.title(\"Top 10 Brands with chemicals in there products\")\n",
    "plt.ylabel(\"BrandName\",fontweight='bold')\n",
    "plt.xlabel(\"Reported Chemical Count\",fontweight='bold')\n",
    "plt.box(on=False)\n",
    "#plt.grid(axis='y', color='gray', linestyle='--', linewidth=0.3)\n",
    "#plt.show()\n",
    "plt.savefig('Top_10_Brands', bbox_inches='tight', pad_inches=1)"
   ]
  },
  {
   "cell_type": "code",
   "execution_count": 85,
   "id": "55ce9eb6-9916-4c02-81f8-e70a2e9e8a87",
   "metadata": {},
   "outputs": [],
   "source": [
    "# some brands that have reported chemicals in their products so be careful befor purchasing."
   ]
  },
  {
   "cell_type": "markdown",
   "id": "a10a69ce-5218-4396-97a3-5893cc8f8834",
   "metadata": {},
   "source": [
    "### Q6)Did the chemicals report decreased over the years?"
   ]
  },
  {
   "cell_type": "code",
   "execution_count": 88,
   "id": "fb9dd95c-f1c6-4bac-96b8-07f33a9901c4",
   "metadata": {},
   "outputs": [
    {
     "data": {
      "text/html": [
       "<div>\n",
       "<style scoped>\n",
       "    .dataframe tbody tr th:only-of-type {\n",
       "        vertical-align: middle;\n",
       "    }\n",
       "\n",
       "    .dataframe tbody tr th {\n",
       "        vertical-align: top;\n",
       "    }\n",
       "\n",
       "    .dataframe thead th {\n",
       "        text-align: right;\n",
       "    }\n",
       "</style>\n",
       "<table border=\"1\" class=\"dataframe\">\n",
       "  <thead>\n",
       "    <tr style=\"text-align: right;\">\n",
       "      <th></th>\n",
       "      <th>InitialDateReported</th>\n",
       "      <th>count</th>\n",
       "    </tr>\n",
       "  </thead>\n",
       "  <tbody>\n",
       "    <tr>\n",
       "      <th>0</th>\n",
       "      <td>2009</td>\n",
       "      <td>30444</td>\n",
       "    </tr>\n",
       "    <tr>\n",
       "      <th>1</th>\n",
       "      <td>2010</td>\n",
       "      <td>14773</td>\n",
       "    </tr>\n",
       "    <tr>\n",
       "      <th>2</th>\n",
       "      <td>2019</td>\n",
       "      <td>13876</td>\n",
       "    </tr>\n",
       "    <tr>\n",
       "      <th>3</th>\n",
       "      <td>2018</td>\n",
       "      <td>9615</td>\n",
       "    </tr>\n",
       "    <tr>\n",
       "      <th>4</th>\n",
       "      <td>2014</td>\n",
       "      <td>8483</td>\n",
       "    </tr>\n",
       "    <tr>\n",
       "      <th>5</th>\n",
       "      <td>2015</td>\n",
       "      <td>7788</td>\n",
       "    </tr>\n",
       "    <tr>\n",
       "      <th>6</th>\n",
       "      <td>2017</td>\n",
       "      <td>7683</td>\n",
       "    </tr>\n",
       "    <tr>\n",
       "      <th>7</th>\n",
       "      <td>2013</td>\n",
       "      <td>6367</td>\n",
       "    </tr>\n",
       "    <tr>\n",
       "      <th>8</th>\n",
       "      <td>2011</td>\n",
       "      <td>4533</td>\n",
       "    </tr>\n",
       "    <tr>\n",
       "      <th>9</th>\n",
       "      <td>2016</td>\n",
       "      <td>4494</td>\n",
       "    </tr>\n",
       "    <tr>\n",
       "      <th>10</th>\n",
       "      <td>2012</td>\n",
       "      <td>3742</td>\n",
       "    </tr>\n",
       "    <tr>\n",
       "      <th>11</th>\n",
       "      <td>2020</td>\n",
       "      <td>2583</td>\n",
       "    </tr>\n",
       "  </tbody>\n",
       "</table>\n",
       "</div>"
      ],
      "text/plain": [
       "    InitialDateReported  count\n",
       "0                  2009  30444\n",
       "1                  2010  14773\n",
       "2                  2019  13876\n",
       "3                  2018   9615\n",
       "4                  2014   8483\n",
       "5                  2015   7788\n",
       "6                  2017   7683\n",
       "7                  2013   6367\n",
       "8                  2011   4533\n",
       "9                  2016   4494\n",
       "10                 2012   3742\n",
       "11                 2020   2583"
      ]
     },
     "execution_count": 88,
     "metadata": {},
     "output_type": "execute_result"
    }
   ],
   "source": [
    "clean_data['InitialDateReported']= pd.to_datetime(clean_data['InitialDateReported'])\n",
    "report_count = clean_data['InitialDateReported'].dt.year.value_counts()#.sort_values(ascending=False)\n",
    "report_count = pd.DataFrame(report_count).reset_index()\n",
    "report_count "
   ]
  },
  {
   "cell_type": "code",
   "execution_count": 90,
   "id": "281b146c-438c-4324-93f0-72a61cad9107",
   "metadata": {},
   "outputs": [
    {
     "data": {
      "image/png": "[encoded data removed]",
      "text/plain": [
       "<Figure size 1000x400 with 1 Axes>"
      ]
     },
     "metadata": {},
     "output_type": "display_data"
    }
   ],
   "source": [
    "plt.figure(figsize=(10, 4)) \n",
    "plt.bar(report_count.InitialDateReported,report_count['count'])\n",
    "plt.title(\"Reports over the years\")\n",
    "plt.xlabel(\"InitialDateReported\")\n",
    "plt.xticks([2009,2010,2011,2012,2013,2014,2015,2016,2017,2018,2019,2020],\n",
    "           ['2009','2010','2011','2012','2013','2014','2015','2016','2017','2018','2019','2020'])\n",
    "plt.ylabel(\"Reports Count\")\n",
    "plt.box(on=False)\n",
    "#plt.grid(axis='y', color='gray', linestyle='--', linewidth=0.3)\n",
    "plt.show()"
   ]
  },
  {
   "cell_type": "markdown",
   "id": "5c7b4223-9682-4b54-b1c3-68f4dfbced96",
   "metadata": {},
   "source": [
    "### convert the clean data to a CSV file"
   ]
  },
  {
   "cell_type": "code",
   "execution_count": 94,
   "id": "1af1a731-3499-4828-86ec-5277c5d31f89",
   "metadata": {},
   "outputs": [],
   "source": [
    "clean_data.to_csv(\"Chemical_in_cosmatics_Clean_data.csv\")"
   ]
  },
  {
   "cell_type": "code",
   "execution_count": null,
   "id": "59bf484f-e596-47e4-8203-ce69fe34508d",
   "metadata": {},
   "outputs": [],
   "source": []
  }
 ],
 "metadata": {
  "kernelspec": {
   "display_name": "Python [conda env:base] *",
   "language": "python",
   "name": "conda-base-py"
  },
  "language_info": {
   "codemirror_mode": {
    "name": "ipython",
    "version": 3
   },
   "file_extension": ".py",
   "mimetype": "text/x-python",
   "name": "python",
   "nbconvert_exporter": "python",
   "pygments_lexer": "ipython3",
   "version": "3.12.7"
  }
 },
 "nbformat": 4,
 "nbformat_minor": 5
}
